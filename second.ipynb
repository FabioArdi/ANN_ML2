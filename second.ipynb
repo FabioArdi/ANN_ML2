{
 "cells": [
  {
   "attachments": {},
   "cell_type": "markdown",
   "metadata": {},
   "source": [
    "### Creating a Neural Network Model"
   ]
  },
  {
   "cell_type": "code",
   "execution_count": 1,
   "metadata": {},
   "outputs": [
    {
     "ename": "SyntaxError",
     "evalue": "invalid syntax (579352765.py, line 4)",
     "output_type": "error",
     "traceback": [
      "\u001b[1;36m  Cell \u001b[1;32mIn[1], line 4\u001b[1;36m\u001b[0m\n\u001b[1;33m    tf.keras.layers.Dense(N_Neurons_H1, activation=activ_f1. input_dim = num_features),\u001b[0m\n\u001b[1;37m                                                                       ^\u001b[0m\n\u001b[1;31mSyntaxError\u001b[0m\u001b[1;31m:\u001b[0m invalid syntax\n"
     ]
    }
   ],
   "source": [
    "import tensorflow as tf\n",
    "\n",
    "model = tf.keras.models.Sequential([\n",
    "    tf.keras.layers.Dense(N_Neurons_H1, activation=activ_f1. input_dim = num_features),\n",
    "    tf.keras.layers.Dense(N_Neurons_H2, activation=activ_f2),\n",
    "    tf.keras.layers.Dense(N_Neurons_H3, activation=activ_f3),\n",
    "    tf.keras.layers.Dense(N_Neurons_Out, activation=activ_f_out)\n",
    "])"
   ]
  },
  {
   "attachments": {},
   "cell_type": "markdown",
   "metadata": {},
   "source": [
    "### Configure Model training strategy"
   ]
  },
  {
   "cell_type": "code",
   "execution_count": null,
   "metadata": {},
   "outputs": [],
   "source": [
    "model.compile(loss=loss_f, optimizer=how_to_descend,\n",
    "              metrics=metrics)"
   ]
  },
  {
   "attachments": {},
   "cell_type": "markdown",
   "metadata": {},
   "source": [
    "### Train the model"
   ]
  },
  {
   "cell_type": "code",
   "execution_count": null,
   "metadata": {},
   "outputs": [],
   "source": [
    "model.fit(X_train, y_train, epochs=N_epochs,\n",
    "          validation_data=(X_val, y_val))"
   ]
  },
  {
   "attachments": {},
   "cell_type": "markdown",
   "metadata": {},
   "source": [
    "### Evaluate the model"
   ]
  },
  {
   "cell_type": "code",
   "execution_count": null,
   "metadata": {},
   "outputs": [],
   "source": [
    "model.evaluate(X_test, y_test)"
   ]
  },
  {
   "cell_type": "markdown",
   "metadata": {},
   "source": [
    "## Example Model"
   ]
  },
  {
   "cell_type": "code",
   "execution_count": 7,
   "metadata": {},
   "outputs": [],
   "source": [
    "import pandas as pd\n",
    "from sklearn.model_selection import train_test_split\n",
    "from sklearn.preprocessing import StandardScaler\n",
    "import tensorflow as tf\n",
    "\n",
    "df_banknote = pd.read_csv(\"data_banknote_authentication.txt\", header=None, sep=\",\", names=[\"variance\", \"skewness\", \"curtosis\", \"entropy\", \"class\"])\n",
    "\n",
    "X = df_banknote.drop(\"class\", axis=1).values\n",
    "y = df_banknote[\"class\"].values\n",
    "\n",
    "X_train_full, X_test, y_train_full, y_test = train_test_split(X, y, test_size=0.2, random_state=42)\n",
    "\n",
    "X_val, X_train = X_train_full[:150], X_train_full[150:]\n",
    "y_val, y_train = y_train_full[:150], y_train_full[150:]\n",
    "\n",
    "sc = StandardScaler()\n",
    "X_train = sc.fit_transform(X_train)\n",
    "X_val = sc.transform(X_val)\n",
    "X_test = sc.transform(X_test)\n",
    "\n",
    "new_df = df_banknote[1:3]"
   ]
  },
  {
   "attachments": {},
   "cell_type": "markdown",
   "metadata": {},
   "source": [
    "### Create and train the model\n"
   ]
  },
  {
   "cell_type": "code",
   "execution_count": 8,
   "metadata": {},
   "outputs": [
    {
     "name": "stdout",
     "output_type": "stream",
     "text": [
      "Model: \"sequential\"\n",
      "_________________________________________________________________\n",
      " Layer (type)                Output Shape              Param #   \n",
      "=================================================================\n",
      " dense (Dense)               (None, 16)                80        \n",
      "                                                                 \n",
      " dense_1 (Dense)             (None, 8)                 136       \n",
      "                                                                 \n",
      " dense_2 (Dense)             (None, 4)                 36        \n",
      "                                                                 \n",
      " dense_3 (Dense)             (None, 1)                 5         \n",
      "                                                                 \n",
      "=================================================================\n",
      "Total params: 257\n",
      "Trainable params: 257\n",
      "Non-trainable params: 0\n",
      "_________________________________________________________________\n"
     ]
    }
   ],
   "source": [
    "model = tf.keras.models.Sequential([\n",
    "    tf.keras.layers.Dense(16, activation=\"relu\", input_dim=4),\n",
    "    tf.keras.layers.Dense(8, activation=\"relu\"),\n",
    "    tf.keras.layers.Dense(4, activation=\"relu\"),\n",
    "    tf.keras.layers.Dense(1, activation=\"sigmoid\")\n",
    "])\n",
    "\n",
    "model.summary()"
   ]
  },
  {
   "cell_type": "code",
   "execution_count": 9,
   "metadata": {},
   "outputs": [],
   "source": [
    "model.compile(loss=tf.keras.losses.BinaryCrossentropy(from_logits=False), optimizer='sgd', metrics=[\"accuracy\"])"
   ]
  },
  {
   "cell_type": "code",
   "execution_count": 16,
   "metadata": {},
   "outputs": [
    {
     "name": "stdout",
     "output_type": "stream",
     "text": [
      "Epoch 1/20\n",
      "30/30 [==============================] - 0s 5ms/step - loss: 0.1628 - accuracy: 0.9683 - val_loss: 0.1421 - val_accuracy: 0.9867\n",
      "Epoch 2/20\n",
      "30/30 [==============================] - 0s 4ms/step - loss: 0.1468 - accuracy: 0.9683 - val_loss: 0.1267 - val_accuracy: 0.9867\n",
      "Epoch 3/20\n",
      "30/30 [==============================] - 0s 3ms/step - loss: 0.1332 - accuracy: 0.9715 - val_loss: 0.1134 - val_accuracy: 0.9867\n",
      "Epoch 4/20\n",
      "30/30 [==============================] - 0s 3ms/step - loss: 0.1216 - accuracy: 0.9747 - val_loss: 0.1023 - val_accuracy: 0.9867\n",
      "Epoch 5/20\n",
      "30/30 [==============================] - 0s 4ms/step - loss: 0.1116 - accuracy: 0.9747 - val_loss: 0.0927 - val_accuracy: 0.9867\n",
      "Epoch 6/20\n",
      "30/30 [==============================] - 0s 4ms/step - loss: 0.1029 - accuracy: 0.9768 - val_loss: 0.0845 - val_accuracy: 0.9867\n",
      "Epoch 7/20\n",
      "30/30 [==============================] - 0s 4ms/step - loss: 0.0955 - accuracy: 0.9778 - val_loss: 0.0774 - val_accuracy: 0.9867\n",
      "Epoch 8/20\n",
      "30/30 [==============================] - 0s 4ms/step - loss: 0.0889 - accuracy: 0.9778 - val_loss: 0.0714 - val_accuracy: 0.9867\n",
      "Epoch 9/20\n",
      "30/30 [==============================] - 0s 3ms/step - loss: 0.0830 - accuracy: 0.9789 - val_loss: 0.0661 - val_accuracy: 0.9867\n",
      "Epoch 10/20\n",
      "30/30 [==============================] - 0s 3ms/step - loss: 0.0779 - accuracy: 0.9799 - val_loss: 0.0612 - val_accuracy: 0.9867\n",
      "Epoch 11/20\n",
      "30/30 [==============================] - 0s 4ms/step - loss: 0.0733 - accuracy: 0.9810 - val_loss: 0.0572 - val_accuracy: 0.9867\n",
      "Epoch 12/20\n",
      "30/30 [==============================] - 0s 4ms/step - loss: 0.0692 - accuracy: 0.9820 - val_loss: 0.0537 - val_accuracy: 0.9867\n",
      "Epoch 13/20\n",
      "30/30 [==============================] - 0s 4ms/step - loss: 0.0654 - accuracy: 0.9820 - val_loss: 0.0506 - val_accuracy: 0.9867\n",
      "Epoch 14/20\n",
      "30/30 [==============================] - 0s 4ms/step - loss: 0.0621 - accuracy: 0.9831 - val_loss: 0.0476 - val_accuracy: 0.9867\n",
      "Epoch 15/20\n",
      "30/30 [==============================] - 0s 4ms/step - loss: 0.0591 - accuracy: 0.9831 - val_loss: 0.0450 - val_accuracy: 0.9867\n",
      "Epoch 16/20\n",
      "30/30 [==============================] - 0s 4ms/step - loss: 0.0563 - accuracy: 0.9842 - val_loss: 0.0428 - val_accuracy: 0.9867\n",
      "Epoch 17/20\n",
      "30/30 [==============================] - 0s 3ms/step - loss: 0.0538 - accuracy: 0.9842 - val_loss: 0.0408 - val_accuracy: 0.9867\n",
      "Epoch 18/20\n",
      "30/30 [==============================] - 0s 4ms/step - loss: 0.0515 - accuracy: 0.9842 - val_loss: 0.0388 - val_accuracy: 0.9867\n",
      "Epoch 19/20\n",
      "30/30 [==============================] - 0s 4ms/step - loss: 0.0494 - accuracy: 0.9842 - val_loss: 0.0372 - val_accuracy: 0.9867\n",
      "Epoch 20/20\n",
      "30/30 [==============================] - 0s 4ms/step - loss: 0.0474 - accuracy: 0.9842 - val_loss: 0.0356 - val_accuracy: 0.9867\n"
     ]
    }
   ],
   "source": [
    "history = model.fit(X_train, y_train, epochs=20, validation_data=(X_val, y_val))"
   ]
  },
  {
   "cell_type": "code",
   "execution_count": 17,
   "metadata": {},
   "outputs": [
    {
     "name": "stdout",
     "output_type": "stream",
     "text": [
      "9/9 [==============================] - 0s 2ms/step - loss: 0.0525 - accuracy: 0.9891\n"
     ]
    },
    {
     "data": {
      "text/plain": [
       "[0.052493903785943985, 0.9890909194946289]"
      ]
     },
     "execution_count": 17,
     "metadata": {},
     "output_type": "execute_result"
    }
   ],
   "source": [
    "model.evaluate(X_test, y_test)"
   ]
  },
  {
   "cell_type": "code",
   "execution_count": 18,
   "metadata": {},
   "outputs": [
    {
     "name": "stdout",
     "output_type": "stream",
     "text": [
      "1/1 [==============================] - 0s 33ms/step\n"
     ]
    },
    {
     "data": {
      "text/plain": [
       "array([[0.03],\n",
       "       [0.34],\n",
       "       [0.25],\n",
       "       [0.02],\n",
       "       [0.01]], dtype=float32)"
      ]
     },
     "execution_count": 18,
     "metadata": {},
     "output_type": "execute_result"
    }
   ],
   "source": [
    "X_new = X_test[0:5]\n",
    "y_proba = model.predict(X_new)\n",
    "y_proba.round(2)"
   ]
  },
  {
   "cell_type": "code",
   "execution_count": 19,
   "metadata": {},
   "outputs": [
    {
     "data": {
      "text/plain": [
       "array([0, 0, 0, 0, 0], dtype=int64)"
      ]
     },
     "execution_count": 19,
     "metadata": {},
     "output_type": "execute_result"
    }
   ],
   "source": [
    "y_test[0:5]"
   ]
  },
  {
   "cell_type": "code",
   "execution_count": 20,
   "metadata": {},
   "outputs": [
    {
     "name": "stdout",
     "output_type": "stream",
     "text": [
      "9/9 [==============================] - 0s 1ms/step\n"
     ]
    }
   ],
   "source": [
    "from sklearn.metrics import confusion_matrix, ConfusionMatrixDisplay\n",
    "\n",
    "y_proba = model.predict(X_test)\n",
    "y_pred = (y_proba > 0.5).astype(\"int32\")\n",
    "\n",
    "cm = confusion_matrix(y_test, y_pred)\n",
    "disp = ConfusionMatrixDisplay(confusion_matrix=cm, display_labels=[\"fake\", \"real\"])"
   ]
  }
 ],
 "metadata": {
  "kernelspec": {
   "display_name": "venv",
   "language": "python",
   "name": "python3"
  },
  "language_info": {
   "codemirror_mode": {
    "name": "ipython",
    "version": 3
   },
   "file_extension": ".py",
   "mimetype": "text/x-python",
   "name": "python",
   "nbconvert_exporter": "python",
   "pygments_lexer": "ipython3",
   "version": "3.11.2"
  },
  "orig_nbformat": 4
 },
 "nbformat": 4,
 "nbformat_minor": 2
}
